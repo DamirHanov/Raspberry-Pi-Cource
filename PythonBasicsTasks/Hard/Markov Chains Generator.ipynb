{
 "cells": [
  {
   "cell_type": "markdown",
   "metadata": {},
   "source": [
    "# Задание высокого уровня сложности\n",
    "Необходимо реализовать генератор текста, на основе марковских цепей."
   ]
  },
  {
   "attachments": {
    "b3dc6368-62bf-4154-9851-9ba929f4dde5.png": {
     "image/png": "[encoded data removed]"
    }
   },
   "cell_type": "markdown",
   "metadata": {},
   "source": [
    "## Немного про марковские цепи\n",
    "\n",
    "Мы можем представить марковскую цепь в виде графа. Вершинами графа являются какие-либо состояния. В каждый момент времени мы находимся в каком-либо состоянии. При этом в каждый следующий момент мы должны перейти в какое-то другое состояние, в которое у нас есть ребро. Вероятность конкретного перехода указываются на рёбрах. Ниже представлен рисунок с примером такого графа.\n",
    "\n",
    "![image.png](attachment:b3dc6368-62bf-4154-9851-9ba929f4dde5.png)"
   ]
  },
  {
   "cell_type": "markdown",
   "metadata": {},
   "source": [
    "## Как это связано с заданием\n",
    "\n",
    "Мы можем найти огромное количество различных текстов в интернете. На основе этих текстов мы можем составить марковскую цепь, например, используя n-граммы (n последовательных символов подряд), или просто слова (далее буду называть их токенами). Так вот, наши токены и будут нашими состояниями. Вероятности переходов мы так же можем получить из этого же текста просто сохраняя какие токены встречаются после текущего. "
   ]
  },
  {
   "cell_type": "markdown",
   "metadata": {},
   "source": [
    "## Что необходимо сделать\n",
    "\n",
    "Для начала нам понадобится какой-то датасет. Я настаиваю на том, чтобы вы его формировали автоматически, например, скачивая какие-либо файлы с текстом книг или получая текст из, например, комментариев с ютуба.\n",
    "\n",
    "После этого его необходимо разбить на токены. Поскольку это задание является \"сложным\", необходимо реализовать возможность разбиения и на n-граммы и по словам. В это же время наши данные необходимо \"почистить\". Например, в разбиении на слова стоит обратить внимание на пунктуацию, на переносы строки.\n",
    "\n",
    "После того, как мы получим текст, разбитый на токены, мы можем посчитать какие токены мы всречаем после каких и с какой вероятностью.\n",
    "\n",
    "На этом этапе у нас уже всё будет готово, остаётся задать какой-то начальный токен. При достаточно большом наборе данных и удачном подборе параметров, мы можем получить +- связный текст."
   ]
  },
  {
   "cell_type": "markdown",
   "metadata": {},
   "source": [
    "## Замечания\n",
    "\n",
    "1. Для упрощения разработки вам дан текст со стихами Маяковского, поскольку на нём можно не только разрабатывать алгоритм непосредственно, но и проверить как влияет чистка данных на выходной результат.\n",
    "2. Как я уже говорил выше, вы можете хранить данные в очень простом словаре, подумайте как вы можете улучшить хранение данных (в контексте уменьшения необходимой памяти)"
   ]
  },
  {
   "cell_type": "code",
   "execution_count": null,
   "metadata": {},
   "outputs": [],
   "source": [
    "import random\n",
    "import urllib.request\n",
    "import re  # советую использовать для чистки данных, но не обязательно"
   ]
  },
  {
   "cell_type": "markdown",
   "metadata": {},
   "source": [
    "**Ниже - функция которую необходимо реализовать**\n",
    "\n",
    "*Не забудьте убрать raise NotImplementedError*"
   ]
  },
  {
   "cell_type": "markdown",
   "metadata": {},
   "source": [
    "Вам, очевидно, понадобятся дополнительные функции (для загрузки данных, их чистки и т.п.), настоятельно рекомендую выделять их в отдельные функции (внутри или вне заданной - не важно)"
   ]
  },
  {
   "cell_type": "code",
   "execution_count": null,
   "metadata": {},
   "outputs": [],
   "source": [
    "def generate_text(data):\n",
    "    raise NotImplementedError"
   ]
  },
  {
   "cell_type": "code",
   "execution_count": null,
   "metadata": {},
   "outputs": [],
   "source": []
  },
  {
   "cell_type": "code",
   "execution_count": null,
   "metadata": {},
   "outputs": [],
   "source": []
  },
  {
   "cell_type": "code",
   "execution_count": null,
   "metadata": {},
   "outputs": [],
   "source": []
  },
  {
   "cell_type": "code",
   "execution_count": null,
   "metadata": {},
   "outputs": [],
   "source": []
  },
  {
   "cell_type": "code",
   "execution_count": null,
   "metadata": {},
   "outputs": [],
   "source": []
  },
  {
   "cell_type": "code",
   "execution_count": null,
   "metadata": {},
   "outputs": [],
   "source": []
  }
 ],
 "metadata": {
  "kernelspec": {
   "display_name": "Python 3",
   "language": "python",
   "name": "python3"
  },
  "language_info": {
   "codemirror_mode": {
    "name": "ipython",
    "version": 3
   },
   "file_extension": ".py",
   "mimetype": "text/x-python",
   "name": "python",
   "nbconvert_exporter": "python",
   "pygments_lexer": "ipython3",
   "version": "3.8.2"
  }
 },
 "nbformat": 4,
 "nbformat_minor": 4
}
