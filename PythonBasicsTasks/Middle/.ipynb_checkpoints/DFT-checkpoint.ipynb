{
 "cells": [
  {
   "cell_type": "markdown",
   "metadata": {},
   "source": [
    "# Задание среднего уровня сложности\n",
    "\n",
    "Необходимо реализовать функцию, которая будет расчитывать дискретное преобразование Фурье"
   ]
  },
  {
   "cell_type": "markdown",
   "metadata": {},
   "source": [
    "## Формулы\n",
    "\n",
    "У нас есть какой-то набор из $\\Large N$ значений какой-то функции. Обозначим его за $\\Large S$. В результате мы должны получить столько же значений, сколько и было в $\\Large S$, обозначим новый список за $\\Large \\hat{S}$\n",
    "\n",
    "Чтобы сократить запись, в формулах мы за $\\Large \\zeta$ обозначим следующее выражение: $\\Large e ^ {\\frac{-2\\pi i}{N}}$ \n",
    "\n",
    "Тогда первое значение $\\Large \\hat{S}_0$ будет вычисляться по формуле: $\\Large \\hat{S}_0 = S_0 + S_1 + S_2 + \\ldots + S_{N - 1}$\n",
    "\n",
    "Второе же значение $\\Large \\hat{S}_1$ будет вычисляться по формуле: $\\Large \\hat{S}_1 = S_0 \\zeta^0 + S_1 \\zeta^1 + S_2 \\zeta^2 + \\ldots + S_{N - 1} \\zeta^{N - 1}$\n",
    "\n",
    "Третье: $\\Large \\hat{S}_2 = S_0 \\zeta^0 + S_1 \\zeta^2 + S_2 \\zeta^4 + \\ldots + S_{N - 1} \\zeta^{2(N - 1)}$\n",
    "\n",
    "Четвёртое: $\\Large \\hat{S}_3 = S_0 \\zeta^0 + S_1 \\zeta^3 + S_2 \\zeta^6 + \\ldots + S_{N - 1} \\zeta^{3(N - 1)}$\n",
    "\n",
    "Заметим закономерность и выведем общую формулу для $\\hat{S}_k$\n",
    "\n",
    "$\\Large \\hat{S}_k = \\sum \\limits_{n = 0}^{N - 1} S_n \\zeta^{k \\cdot n}$"
   ]
  },
  {
   "cell_type": "markdown",
   "metadata": {},
   "source": [
    "## Замечания по работе\n",
    "\n",
    "Вам дана заготовка функции, которую необходимо реализовать. Так же импортированы все необходимые библиотеки. Не обращайте внимания на matplotlib и numpy, о них мы поговорим позже. Если вам будет интересно или возникнут какие-то проблемы, то вот ссылки на все библиотеки: [matplotlib](https://matplotlib.org/), [numpy](https://numpy.org/doc/stable/), [cmath](https://docs.python.org/3/library/cmath.html)\n",
    "\n",
    "Стоит отметить, что при реализации \"в лоб\" функция будет работать крайне долго (сложность порядка $O(N^2)$). Поэтому вам предлагаетсся подумать как можно было бы ускорить выполнение функции. *Подсказка*: обратите внимание на  то, сколько раз вычисляется степени $\\zeta$. Помимо такого простого \"ускорения\" вы можете реализовать алгоритм быстрого преобразования Фурье."
   ]
  },
  {
   "cell_type": "code",
   "execution_count": null,
   "metadata": {},
   "outputs": [],
   "source": [
    "import matplotlib.pyplot as plt\n",
    "import cmath\n",
    "import numpy as np"
   ]
  },
  {
   "cell_type": "markdown",
   "metadata": {},
   "source": [
    "**Ниже - функция которую необходимо реализовать**\n",
    "\n",
    "*Не забудьте убрать raise NotImplementedError*"
   ]
  },
  {
   "cell_type": "code",
   "execution_count": null,
   "metadata": {},
   "outputs": [],
   "source": [
    "def dft(signal):\n",
    "    raise NotImplementedError"
   ]
  },
  {
   "cell_type": "code",
   "execution_count": null,
   "metadata": {},
   "outputs": [],
   "source": [
    "data = np.sin(np.array([x / 1000. for x in range(5000)]))"
   ]
  },
  {
   "cell_type": "code",
   "execution_count": null,
   "metadata": {},
   "outputs": [],
   "source": [
    "plt.plot(data);"
   ]
  },
  {
   "cell_type": "code",
   "execution_count": null,
   "metadata": {},
   "outputs": [],
   "source": [
    "test = np.array(dft(data))"
   ]
  },
  {
   "cell_type": "markdown",
   "metadata": {},
   "source": [
    "**Тут мы видим график, который получим в качестве результата работы алгоритма**"
   ]
  },
  {
   "cell_type": "code",
   "execution_count": null,
   "metadata": {},
   "outputs": [],
   "source": [
    "plt.plot([abs(x) for x in test]);"
   ]
  },
  {
   "cell_type": "markdown",
   "metadata": {},
   "source": [
    "**Проверяем, что получили то же самое, что и библиотечная реализация**"
   ]
  },
  {
   "cell_type": "code",
   "execution_count": null,
   "metadata": {},
   "outputs": [],
   "source": [
    "np.allclose(test, np.fft.fft(data))"
   ]
  },
  {
   "cell_type": "markdown",
   "metadata": {},
   "source": [
    "## Часть для тех, кто хочет проверить насколько быстро работает их алгоритм\n",
    "\n",
    "Тут мы возьмём какой-то реальный файл с музыкой и попробуем обработать его."
   ]
  },
  {
   "cell_type": "code",
   "execution_count": null,
   "metadata": {},
   "outputs": [],
   "source": [
    "from scipy.io import wavfile"
   ]
  },
  {
   "cell_type": "code",
   "execution_count": null,
   "metadata": {},
   "outputs": [],
   "source": [
    "_, sample_data = wavfile.read('./CantinaBand60.wav')\n",
    "print(f'Всего значений в файле: {len(sample_data)}')"
   ]
  },
  {
   "cell_type": "code",
   "execution_count": null,
   "metadata": {},
   "outputs": [],
   "source": [
    "%timeit -n 10 -r 10 dft(sample_data)"
   ]
  },
  {
   "cell_type": "code",
   "execution_count": null,
   "metadata": {},
   "outputs": [],
   "source": []
  }
 ],
 "metadata": {
  "kernelspec": {
   "display_name": "Python 3",
   "language": "python",
   "name": "python3"
  },
  "language_info": {
   "codemirror_mode": {
    "name": "ipython",
    "version": 3
   },
   "file_extension": ".py",
   "mimetype": "text/x-python",
   "name": "python",
   "nbconvert_exporter": "python",
   "pygments_lexer": "ipython3",
   "version": "3.8.2"
  }
 },
 "nbformat": 4,
 "nbformat_minor": 4
}
