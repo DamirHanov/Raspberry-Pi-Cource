{
 "cells": [
  {
   "cell_type": "markdown",
   "metadata": {},
   "source": [
    "# Задание лёгкого уровня сложности\n",
    "\n",
    "Необходимо реализовать создание случайных WAV файлов."
   ]
  },
  {
   "cell_type": "markdown",
   "metadata": {},
   "source": [
    "## Замечания по работе\n",
    "\n",
    "Вам дана заготовка функции, которую необходимо реализовать. Так же импортированы все необходимые библиотеки.\n",
    "\n",
    "Вы так же можете попробовать реализовать одну из следующих идей:\n",
    "1. Генерировать случайные числа с без использования библиотеки random (или аналогичных), а самостоятельно\n",
    "2. Генерировать не просто случайные файлы (они звучат как шум), а что-то более мелодичное, например, различные гормонии/последовательности."
   ]
  },
  {
   "cell_type": "code",
   "execution_count": null,
   "metadata": {},
   "outputs": [],
   "source": [
    "import wave\n",
    "import random"
   ]
  },
  {
   "cell_type": "markdown",
   "metadata": {},
   "source": [
    "**Ниже - функция которую необходимо реализовать**\n",
    "\n",
    "*Не забудьте убрать raise NotImplementedError*"
   ]
  },
  {
   "cell_type": "code",
   "execution_count": null,
   "metadata": {},
   "outputs": [],
   "source": [
    "def generate_random_wav(number_of_channels, frame_rate, sample_width, duration, file_name='test.wav'):\n",
    "    raise NotImplementedError"
   ]
  },
  {
   "cell_type": "code",
   "execution_count": null,
   "metadata": {},
   "outputs": [],
   "source": []
  },
  {
   "cell_type": "code",
   "execution_count": null,
   "metadata": {},
   "outputs": [],
   "source": []
  }
 ],
 "metadata": {
  "kernelspec": {
   "display_name": "Python 3",
   "language": "python",
   "name": "python3"
  },
  "language_info": {
   "codemirror_mode": {
    "name": "ipython",
    "version": 3
   },
   "file_extension": ".py",
   "mimetype": "text/x-python",
   "name": "python",
   "nbconvert_exporter": "python",
   "pygments_lexer": "ipython3",
   "version": "3.8.2"
  }
 },
 "nbformat": 4,
 "nbformat_minor": 4
}
