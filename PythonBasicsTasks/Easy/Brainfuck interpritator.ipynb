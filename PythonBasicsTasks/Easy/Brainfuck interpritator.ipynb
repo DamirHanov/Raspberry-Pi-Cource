{
 "cells": [
  {
   "cell_type": "markdown",
   "metadata": {},
   "source": [
    "# Задача лёгкого уровня сложности\n",
    "Написать интерпритатор программ, написаных на Brainfuck"
   ]
  },
  {
   "cell_type": "markdown",
   "metadata": {},
   "source": [
    "## Немного про Brainfuck\n",
    "\n",
    "Brainfuck - один из самых известных эзотерических ЯП. Он является [Тьюринг полным](https://ru.wikipedia.org/wiki/%D0%9F%D0%BE%D0%BB%D0%BD%D0%BE%D1%82%D0%B0_%D0%BF%D0%BE_%D0%A2%D1%8C%D1%8E%D1%80%D0%B8%D0%BD%D0%B3%D1%83).\n",
    "\n",
    "Состоит он всего из 8 команд.\n",
    "\n",
    "|**команда**|**что делает**|\n",
    "|-----------|--------------|\n",
    "|   **>**   | переходит к следующей ячейке |\n",
    "|   **<**   | переходит к предыдущей ячеейке |\n",
    "|   **+**   | увеличивает значение в текущей ячейке на 1 |\n",
    "|   **-**   | уменьшает значение в текущей ячейке на 1 |\n",
    "|   **.**   | напечатать значение из текущей ячейки (в виде ASCII символа) |\n",
    "|   **,**   | считывает символ и записывает код символа в текущей ячейке |\n",
    "|   **\\[**  | если значение текущей ячейки **ноль**, перейти вперёд по тексту программы на ячейку, следующую за соответствующей **\\]** (с учётом вложенности) |\n",
    "|   **\\]**  | если значение текущей ячейки **не нуль**, перейти назад по тексту программы на символ **\\[** (с учётом вложенности) |\n",
    "\n",
    "Если интересно, можете посмотреть на [wiki](https://ru.wikipedia.org/wiki/Brainfuck)"
   ]
  },
  {
   "cell_type": "markdown",
   "metadata": {},
   "source": [
    "## Замечания по работе\n",
    "\n",
    "Вам дана заготовка функции, которую необходимо реализовать. Текст с Brainfuck кодом вам тоже дан.\n",
    "\n",
    "Если вам интересно, то вы можете попробовать не просто реализовать интерпритацию программ, но и:\n",
    "1. Оптимизировать использование памяти (продумать внутренее представление ленты с ячейками)\n",
    "2. Оптимизировать сам набор инструкций, например последовательные плюсы и минусы выполнять не по 1 за раз, а сначала считать, а уже потом записать итоговый результат"
   ]
  },
  {
   "cell_type": "code",
   "execution_count": null,
   "metadata": {},
   "outputs": [],
   "source": [
    "def interpretate(source_code):\n",
    "    raise NotImplementedError"
   ]
  },
  {
   "cell_type": "markdown",
   "metadata": {},
   "source": [
    "**Ниже - дана функция для считывания кода из файла, если вам интересно, то можете реализовать её самостоятельно**"
   ]
  },
  {
   "cell_type": "code",
   "execution_count": null,
   "metadata": {},
   "outputs": [],
   "source": [
    "def read_code(file_name):\n",
    "    with open(file_name) as file:\n",
    "        allowed_chars = '><+-.,[]'\n",
    "        data = file.read()\n",
    "        data_char_set = set(data)\n",
    "        for char in data_char_set:\n",
    "            if char not in allowed_chars:\n",
    "                data = data.replace(char, '')\n",
    "        return data"
   ]
  },
  {
   "cell_type": "code",
   "execution_count": null,
   "metadata": {},
   "outputs": [],
   "source": [
    "code = read_code('test.bf')"
   ]
  },
  {
   "cell_type": "markdown",
   "metadata": {},
   "source": [
    "**Если всё сделано правильно, то должна появиться фраза \"Hello World!\"**"
   ]
  },
  {
   "cell_type": "code",
   "execution_count": null,
   "metadata": {},
   "outputs": [],
   "source": [
    "interpretate(code)"
   ]
  },
  {
   "cell_type": "code",
   "execution_count": null,
   "metadata": {},
   "outputs": [],
   "source": []
  }
 ],
 "metadata": {
  "kernelspec": {
   "display_name": "Python 3",
   "language": "python",
   "name": "python3"
  },
  "language_info": {
   "codemirror_mode": {
    "name": "ipython",
    "version": 3
   },
   "file_extension": ".py",
   "mimetype": "text/x-python",
   "name": "python",
   "nbconvert_exporter": "python",
   "pygments_lexer": "ipython3",
   "version": "3.8.2"
  }
 },
 "nbformat": 4,
 "nbformat_minor": 4
}
